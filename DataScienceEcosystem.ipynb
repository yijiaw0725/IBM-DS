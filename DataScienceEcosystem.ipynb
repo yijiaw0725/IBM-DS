{
  "nbformat": 4,
  "nbformat_minor": 0,
  "metadata": {
    "colab": {
      "provenance": []
    },
    "kernelspec": {
      "name": "python3",
      "display_name": "Python 3"
    },
    "language_info": {
      "name": "python"
    }
  },
  "cells": [
    {
      "cell_type": "markdown",
      "source": [
        "<h1> Data Science Tools and Ecosystem</h1>"
      ],
      "metadata": {
        "id": "ZOlhOPMvgOOs"
      }
    },
    {
      "cell_type": "markdown",
      "source": [
        "In this notebook, Data Science Tools and Ecosystem are summarized."
      ],
      "metadata": {
        "id": "m2uHeqJFgPro"
      }
    },
    {
      "cell_type": "markdown",
      "source": [
        "Some of the popular languages that Data Scientists use are:\n",
        "<ol>\n",
        "  <li><b> R</b>: A statistical computing language.</li>\n",
        "  <li><b>Python</b>: A high-level, general-purpose programming language. Ithas a large, standard library that provides tools suited to many different tasks, including Databases, Automation, Web scraping, Text processing, Image processing, Machine learning, and Data analytics.</li>\n",
        "  <li><b>C++</b>:  A general-purpose programming language. It is an extension of the C programming language or C with Classes.</li>\n",
        "  <li><b>Java</b>:Object-oriented programming language.</li>\n",
        "</ol>"
      ],
      "metadata": {
        "id": "G2exCbcUgSJH"
      }
    },
    {
      "cell_type": "markdown",
      "source": [
        "Some of the popular languages that Data Scientists use are:\n",
        "<ol>\n",
        "  <li><b> R</b>: A statistical computing language.</li>\n",
        "  <li><b>Python</b>: A high-level, general-purpose programming language. Ithas a large, standard library that provides tools suited to many different tasks, including Databases, Automation, Web scraping, Text processing, Image processing, Machine learning, and Data analytics.</li>\n",
        "  <li><b>C++</b>:  A general-purpose programming language. It is an extension of the C programming language or C with Classes.</li>\n",
        "  <li><b>Java</b>:Object-oriented programming language.</li>\n",
        "</ol>"
      ],
      "metadata": {
        "id": "9zLEM4z8gUgl"
      }
    },
    {
      "cell_type": "markdown",
      "source": [
        "| Data Science Tools        |\n",
        "|---------------------------|\n",
        "| Jupyter Notebook          |\n",
        "| RStudio                   |\n",
        "| Visual Studio Code (VS Code) |"
      ],
      "metadata": {
        "id": "8bTpclisgWLr"
      }
    },
    {
      "cell_type": "markdown",
      "source": [
        "<h3>Below are a few examples of evaluating arithmetic expressions in Python</h3>"
      ],
      "metadata": {
        "id": "wUX8BSAUgY9G"
      }
    },
    {
      "cell_type": "code",
      "source": [
        "# This a simple arithmetic expression to mutiply then add integers\n",
        "(3*4)+5"
      ],
      "metadata": {
        "colab": {
          "base_uri": "https://localhost:8080/"
        },
        "id": "8Rz4xBYlgc2N",
        "outputId": "23aac00b-dcce-417c-88e1-9464047eeeb2"
      },
      "execution_count": 2,
      "outputs": [
        {
          "output_type": "execute_result",
          "data": {
            "text/plain": [
              "17"
            ]
          },
          "metadata": {},
          "execution_count": 2
        }
      ]
    },
    {
      "cell_type": "code",
      "source": [
        "# This will convert 200 minutes to hours by diving by 60\n",
        "200/60"
      ],
      "metadata": {
        "colab": {
          "base_uri": "https://localhost:8080/"
        },
        "id": "Z_7s4QrfgdhC",
        "outputId": "d4caec65-6cef-4d52-ab95-b8c0f6cbf0b7"
      },
      "execution_count": 3,
      "outputs": [
        {
          "output_type": "execute_result",
          "data": {
            "text/plain": [
              "3.3333333333333335"
            ]
          },
          "metadata": {},
          "execution_count": 3
        }
      ]
    },
    {
      "cell_type": "markdown",
      "source": [
        "<b>Objectives:</b>\n",
        "<ul>\n",
        "    <li>List popular languages for Data Science</li>\n",
        "    <li>List commonly used libraries used by Data Scientists</li>\n",
        "    <li>List commonly used Data Science Tools</li>\n",
        "    <li>Examples of evaluating arithmetic expressions in Python</li>  \n",
        "</ul>"
      ],
      "metadata": {
        "id": "2kr2zzwBgg7M"
      }
    },
    {
      "cell_type": "markdown",
      "source": [
        "<h2>Author</h2>\n",
        "Yijia Wang"
      ],
      "metadata": {
        "id": "_tdxDjPbgh5M"
      }
    }
  ]
}